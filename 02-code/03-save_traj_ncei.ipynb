{
 "cells": [
  {
   "cell_type": "code",
   "execution_count": 19,
   "id": "c548561e-bb83-48e3-9434-b14c17009d5d",
   "metadata": {},
   "outputs": [
    {
     "name": "stdout",
     "output_type": "stream",
     "text": [
      "The autoreload extension is already loaded. To reload it, use:\n",
      "  %reload_ext autoreload\n"
     ]
    }
   ],
   "source": [
    "import numpy as np\n",
    "import pandas as pd\n",
    "import xarray as xr\n",
    "import matplotlib.pyplot as plt\n",
    "import glob\n",
    "from io import StringIO\n",
    "\n",
    "\n",
    "# Local import \n",
    "# > Make sure SIO_wrap dir is on the same path as this script.\n",
    "%load_ext autoreload\n",
    "%autoreload 2\n",
    "%reload_ext autoreload\n",
    "from SIO_wrap import dir_tree, fnames\n",
    "\n",
    "from setdir import *\n"
   ]
  },
  {
   "cell_type": "markdown",
   "id": "d747fb6a-b5b2-4260-9a77-55850a46b57c",
   "metadata": {},
   "source": [
    "# Save drifter data (one netcdf per drifter) \n",
    "\n",
    "[National Centers for Environmental Information (NOAA/NCEI) NetCDF Trajectory Template version 2](https://www.nodc.noaa.gov/data/formats/netcdf/v2.0/#keyprinciples)\n",
    "\n",
    "\n",
    "See example CDL here: https://www.nodc.noaa.gov/data/formats/netcdf/v2.0/trajectoryIncomplete.cdl\n"
   ]
  },
  {
   "cell_type": "code",
   "execution_count": 20,
   "id": "3f1edef6-e0ca-4ff0-aa45-688449d8f554",
   "metadata": {},
   "outputs": [],
   "source": [
    "###################-----------   USER EDITS    ------------###################\n",
    "url_strftime = '%Y-%m-%d'\n",
    "\n",
    "latname = 'GPS_Latitude_deg'\n",
    "lonname = 'GPS_Longitude_deg'\n",
    "uvelname = 'uvel'\n",
    "vvelname = 'vvel'\n",
    "droguename = 'Drogue_cnts'\n",
    "slpname = 'SLP_mB'"
   ]
  },
  {
   "cell_type": "code",
   "execution_count": 21,
   "id": "a2cde915-36ee-4654-abec-ca3a8a469c4b",
   "metadata": {},
   "outputs": [],
   "source": [
    "# Get the list of Platform IDs\n",
    "PID = pd.read_csv(cat_proc_path('PID_list.txt'), header='infer', index_col=0)\n"
   ]
  },
  {
   "cell_type": "code",
   "execution_count": 22,
   "id": "47feca9a-d1ea-43e6-9a36-d03f9e036423",
   "metadata": {},
   "outputs": [],
   "source": [
    "# Try saving a single data file in the appropriate format\n",
    "counter=0\n",
    "for i in range(len(PID)):\n",
    "    # Get a single platform ID from the full list\n",
    "    pid1 = (PID[\"PID\"].values)[i].astype('str')\n",
    "    PID1 = (PID[\"PID\"].values)[i]\n",
    "\n",
    "\n",
    "    fname = 'pid'+str(PID1)+'.nc'\n",
    "    hourly_files = glob.glob(cat_interim_path(fname))\n",
    "    if len(hourly_files):\n",
    "        hourly_files = sorted(hourly_files)\n",
    "        # Find the most recent file (alphabetically, rather than by time)\n",
    "        hourly_files = hourly_files[-1]\n",
    "\n",
    "        ds_hourly = xr.open_dataset(hourly_files)\n",
    "\n",
    "        # Assign dimensions of obs = <dim1>, trajectory = <dim2>\n",
    "        time = ds_hourly.time.values\n",
    "        lat = ds_hourly[latname].values\n",
    "        lon = ds_hourly[lonname].values\n",
    "        sst1 = ds_hourly.SST_degC.values\n",
    "        uvel = ds_hourly[uvelname].values\n",
    "        vvel = ds_hourly[vvelname].values\n",
    "        slp = ds_hourly[slpname].values\n",
    "        drogue = ds_hourly[droguename].values\n",
    "        obs = np.linspace(1,len(time),num=len(time),dtype=int)\n",
    "\n",
    "\n",
    "        # Reshape\n",
    "        time = time[np.newaxis, :]\n",
    "        lat = lat[np.newaxis, :]\n",
    "        lon = lon[np.newaxis, :]\n",
    "        sst1 = sst1[np.newaxis, :]\n",
    "        uvel = uvel[np.newaxis, :]\n",
    "        vvel = vvel[np.newaxis, :]\n",
    "        slp = slp[np.newaxis, :]\n",
    "        drogue = drogue[np.newaxis, :]\n",
    "        #obs = obs[np.newaxis,:]\n",
    "\n",
    "\n",
    "        # Coordinates where trajectory is the platform ID, and obs \n",
    "        # are the individual (hourly) observations\n",
    "        mycoords = dict(\n",
    "            trajectory=([\"trajectory\"], [PID1]),\n",
    "            obs=([\"obs\"], obs),\n",
    "        )\n",
    "\n",
    "        # Data variables\n",
    "        myvars = dict(\n",
    "            time = ([\"trajectory\", \"obs\"], time,\n",
    "                    dict(long_name = \"Type in datetime64[ns]\",\n",
    "                        )),\n",
    "            lat = ([\"trajectory\", \"obs\"], lat,\n",
    "                   dict(long_name = \"Latitude\",\n",
    "                        units = \"Degrees north\")),\n",
    "            lon = ([\"trajectory\", \"obs\"], lon,\n",
    "                   dict(long_name = \"Longitude\",\n",
    "                        units = \"Degrees east\")),\n",
    "            SST = ([\"trajectory\", \"obs\"], sst1, \n",
    "                   dict(long_name = 'sea_surface_temperature',\n",
    "                       units = 'deg C',\n",
    "                       _FillValue = -999)),\n",
    "            u = ([\"trajectory\", \"obs\"], uvel,\n",
    "                 dict(long_name = 'eastward velocity',\n",
    "                      units = 'm/s',\n",
    "                      _FillValue = -999)),\n",
    "            v = ([\"trajectory\", \"obs\"], vvel,\n",
    "                 dict(long_name = 'northward velocity',\n",
    "                      units = 'm/s',\n",
    "                      _FillValue = -999)),\n",
    "            slp = ([\"trajectory\", \"obs\"], slp,\n",
    "                   dict(long_name = \"Sea level pressure\",\n",
    "                        units = \"mB\",\n",
    "                        _FillValue = 850)),\n",
    "            drogue_cnts = ([\"trajectory\", \"obs\"], drogue,\n",
    "                      dict(long_name = 'Drogue counts',\n",
    "                           units = 'counts')),\n",
    "        )\n",
    "\n",
    "        # Attributes\n",
    "        myattrs = dict(\n",
    "            ncei_template_version = \"NCEI_NetCDF_Trajectory_Template_v2.0\",\n",
    "            featureType = \"trajectory\",\n",
    "            instrument = 'Surface velocity profiler (SVP)',\n",
    "            title = \"TERIFIC drifters: Deployed in the subpolar North Atlantic between 2019-12-05 and 2021-10-01\",\n",
    "            keywords = \"SVP drifters, SVPB drifters\",\n",
    "            Conventions = 'CF-1.6, ACDD-1.3',\n",
    "            id = 'To be populated with a DOI',\n",
    "            naming_authority = 'gov.noaa.ncei',\n",
    "            processing_level = \"Filtered and hourly-interpolated\",\n",
    "            acknowledgment = \"Funded by the European Union, Horizon 2020: European Research Council Starting Grant\",\n",
    "            date_created = datetime.datetime.today().strftime(url_strftime),\n",
    "            creator_name = 'Eleanor Frajka-Williams',\n",
    "            creator_email = 'eleanor.frajka@noc.ac.uk',\n",
    "            creator_url = 'http://eleanorfrajka.com',\n",
    "            institution = \"National Oceanography Centre, UK\",\n",
    "            project = \"Targeted Experiment to Reconcile Increased Freshwater with Increased Convection (TERIFIC)\",\n",
    "            time_coverage_start = '2019-12-05',\n",
    "            time_coverage_end = '2022-01-11',\n",
    "            time_coverage_resolution = 'hourly',\n",
    "            creator_type = 'person',\n",
    "            platform = 'Surface Velocity Profiler',\n",
    "            sea_name = 'Atlantic',\n",
    "        )\n",
    "\n",
    "        blank_new = xr.Dataset(data_vars=myvars, coords=mycoords, \n",
    "                               attrs=myattrs)\n",
    "\n",
    "        if counter==0:\n",
    "            blank_full = blank_new\n",
    "        else:\n",
    "            blank_full = blank_full.combine_first(blank_new)\n",
    "\n",
    "        counter += 1\n"
   ]
  },
  {
   "cell_type": "code",
   "execution_count": 23,
   "id": "8b1e8195-b0af-4c1b-9a5d-6ba6e1a124d5",
   "metadata": {},
   "outputs": [],
   "source": [
    "fname_full = 'TERIFIC_drifters.nc'\n",
    "\n",
    "# Will overwrite any existing file!\n",
    "blank_full.to_netcdf(cat_interim_path(fname_full), mode='w') \n"
   ]
  },
  {
   "cell_type": "markdown",
   "id": "65fdc807-a16a-4656-a022-4fe107cc7bee",
   "metadata": {},
   "source": [
    "# Filesize too big for Github\n",
    "\n",
    "I can reduce it by marking only thedate the drogue was lost?\n",
    "\n",
    "I could also separate it into four (or five) deployments"
   ]
  },
  {
   "cell_type": "code",
   "execution_count": 11,
   "id": "01229d45-1e9f-4dd9-b841-5496c4f5c891",
   "metadata": {},
   "outputs": [
    {
     "ename": "NameError",
     "evalue": "name 'blank_new' is not defined",
     "output_type": "error",
     "traceback": [
      "\u001b[0;31m---------------------------------------------------------------------------\u001b[0m",
      "\u001b[0;31mNameError\u001b[0m                                 Traceback (most recent call last)",
      "\u001b[0;32m/var/folders/0b/1448f7v57h97h1dnny_s99600000gr/T/ipykernel_10619/1412971484.py\u001b[0m in \u001b[0;36m<module>\u001b[0;34m\u001b[0m\n\u001b[0;32m----> 1\u001b[0;31m \u001b[0mblank_new\u001b[0m\u001b[0;34m\u001b[0m\u001b[0;34m\u001b[0m\u001b[0m\n\u001b[0m",
      "\u001b[0;31mNameError\u001b[0m: name 'blank_new' is not defined"
     ]
    }
   ],
   "source": [
    "blank_new"
   ]
  },
  {
   "cell_type": "code",
   "execution_count": null,
   "id": "b81da216-4972-4cec-8eed-080de8fa8523",
   "metadata": {},
   "outputs": [],
   "source": []
  }
 ],
 "metadata": {
  "kernelspec": {
   "display_name": "env_drifters",
   "language": "python",
   "name": "env_drifters"
  },
  "language_info": {
   "codemirror_mode": {
    "name": "ipython",
    "version": 3
   },
   "file_extension": ".py",
   "mimetype": "text/x-python",
   "name": "python",
   "nbconvert_exporter": "python",
   "pygments_lexer": "ipython3",
   "version": "3.9.5"
  }
 },
 "nbformat": 4,
 "nbformat_minor": 5
}
