{
 "cells": [
  {
   "cell_type": "markdown",
   "id": "2b1ec2e7-c2e3-455c-8cf0-07f7212ee268",
   "metadata": {},
   "source": [
    "# SCRIPT 2\n",
    "\n",
    "Combine processed files into a single drifter dataset, then annotate by deployment?"
   ]
  },
  {
   "cell_type": "code",
   "execution_count": 1,
   "id": "529f1aae-550f-4321-96f4-199417d84c49",
   "metadata": {},
   "outputs": [
    {
     "name": "stdout",
     "output_type": "stream",
     "text": [
      "/Users/eddifying/Python/drifters/ already exists\n",
      "/Users/eddifying/Python/drifters/02-code/ already exists\n",
      "/Users/eddifying/Python/drifters/02-code/SIO_wrap/ already exists\n",
      "/Users/eddifying/Python/drifters/01-data/04-aux/ already exists\n",
      "/Users/eddifying/Python/drifters/01-data/02-intermediate/ already exists\n"
     ]
    }
   ],
   "source": [
    "# - - - - - - - - - - - - - - - - - - - - - - - - - - - - - - - - - - - - - - \n",
    "# Import modules\n",
    "\n",
    "import numpy as np\n",
    "import xarray as xr\n",
    "import pandas as pd\n",
    "import matplotlib.dates as mdates\n",
    "import matplotlib.pyplot as plt\n",
    "from scipy.interpolate import interp1d\n",
    "import datetime\n",
    "import gsw\n",
    "import os\n",
    "import glob\n",
    "import sys\n",
    "import re\n",
    "from scipy import stats\n",
    "import time\n",
    "\n",
    "\n",
    "%load_ext autoreload\n",
    "%autoreload 2\n",
    "\n",
    "# Local import\n",
    "# > Make sure SIO_wrap dir is on the same path as this script.\n",
    "\n",
    "from SIO_wrap import dir_tree, fnames\n",
    "from SIO_wrap.lowess import LatLonLocalWess\n",
    "from SIO_wrap import jlab_python as jlab\n",
    "from SIO_wrap import drifter_qc as dqc\n",
    "\n",
    "from setdir import *\n",
    "\n"
   ]
  },
  {
   "cell_type": "markdown",
   "id": "3652a35a-f76f-448e-bfca-84d9cd625b86",
   "metadata": {},
   "source": [
    "# User edits"
   ]
  },
  {
   "cell_type": "code",
   "execution_count": 2,
   "id": "23fc4be0-322d-44a6-b462-14c039710843",
   "metadata": {},
   "outputs": [],
   "source": [
    "# Path for the output data\n",
    "data_dir = dir_tree.dir_out\n",
    "\n",
    "#------------\n",
    "# Names of variables\n",
    "latname = 'GPS_Latitude_deg'\n",
    "lonname = 'GPS_Longitude_deg'\n",
    "uvelname = 'uvel'\n",
    "vvelname = 'vvel'\n",
    "\n",
    "#--------------\n",
    "# Time formats\n",
    "tstamp_strftime = '%Y%m%d'  # Filename timestamp\n",
    "timcol_strftime = '%Y-%m-%d %H:%M:%S'  # Convert text to datetime format \n",
    "\n",
    "# Reference date for computing time in seconds\n",
    "# Can use an earlier time reference if data start before 2000\n",
    "ref_time = datetime.datetime(2000, 1, 1)\n",
    "\n",
    "#--------------\n",
    "# List of variable names split between float/int types based on whether the \n",
    "# variables are continuous or discrete, respectively.\n",
    "# <!> If the names of variables change, update the lists by printing a list of \n",
    "# all the names from the raw datafile: list(xarrayDataset.keys())\n",
    "\n",
    "integ_vars = ['Drogue_cnts', 'GPS_HDOP', 'GPS_FixDelay', 'GPS_TTFF', \n",
    "              'GPS_NumSat', 'SBD_Transmit_Delay', 'SBD_Retries']\n",
    "\n",
    "float_vars = [lonname, latname, 'SST_degC',\n",
    "              'SLP_mB', 'Battery_volts', uvelname, vvelname]\n"
   ]
  },
  {
   "cell_type": "markdown",
   "id": "8e5bf362-b473-42bf-a392-fb1c4b0c36d2",
   "metadata": {},
   "source": [
    "# Step 1. Load raw data\n",
    "\n",
    "Check the list of PIDs and decide which ones need to be updated."
   ]
  },
  {
   "cell_type": "code",
   "execution_count": 4,
   "id": "456b02fa-e492-4568-81b8-58239a18ee33",
   "metadata": {},
   "outputs": [
    {
     "name": "stdout",
     "output_type": "stream",
     "text": [
      "pid(300234068243970) - Up to date processed file exists\n"
     ]
    }
   ],
   "source": [
    "# Check the list of Platform IDs for TERIFIC\n",
    "PID = pd.read_csv(cat_proc_path('PID_list.txt'), header='infer', index_col=0)\n",
    "\n",
    "# Check whether a given Platform ID has been processed and is up-to-date\n",
    "# If not, then add it to the update list\n",
    "PID_to_update = []\n",
    "counter = 0\n",
    "\n",
    "\n",
    "# Extract a list with the names of existing raw data files.\n",
    "for i in [1]: \n",
    "#range(len(PID)):\n",
    "    pid1 = (PID[\"PID\"].values)[i].astype('str')\n",
    "    PID1 = (PID[\"PID\"].values)[i]\n",
    "\n",
    "    # Extract a list with the names of existing raw data files.\n",
    "    fname = 'pid'+str(PID1)+'_*'\n",
    "    existing_files = glob.glob(cat_interim_path(fname))\n",
    "\n",
    "    # Check whether any files exist in the intermediate directory for that PID\n",
    "    if len(existing_files) > 0:\n",
    "\n",
    "        # Extract the end date from the filename\n",
    "        existing_files = sorted(existing_files)\n",
    "        # Needs existing_files to be sorted() so the last one is latest\n",
    "        end_date = (existing_files[-1])[-11:-3] \n",
    "        t1 = datetime.datetime.strptime(end_date, '%Y%m%d')  \n",
    "\n",
    "        # Check what the latest raw file was\n",
    "        raw_files = glob.glob(cat_raw_path(fname))\n",
    "        if not len(raw_files) > 0:\n",
    "            print('No raw file for that PID!')\n",
    "\n",
    "        # Check the end date\n",
    "        raw_files = sorted(raw_files)\n",
    "        end_date_raw = (raw_files[-1])[-11:-3]\n",
    "        t_raw = datetime.datetime.strptime(end_date_raw, '%Y%m%d')\n",
    "\n",
    "        if t1==t_raw:\n",
    "            print('pid('+pid1+') - Up to date processed file exists')\n",
    "\n",
    "        else:\n",
    "            counter += 1\n",
    "            PID_to_update.append(PID1)\n",
    "            print(str(counter)+'. pid('+pid1+') - Ended:'+end_date\n",
    "                  +', New end:'+t_raw)\n",
    "\n",
    "    else:\n",
    "        counter += 1\n",
    "        print(str(counter)+'. pid('+pid1\n",
    "              +') - No previous raw data files.')\n",
    "        PID_to_update.append(PID1)"
   ]
  },
  {
   "cell_type": "code",
   "execution_count": 29,
   "id": "d37753de-7ea5-4863-b4b8-b5496547f526",
   "metadata": {},
   "outputs": [],
   "source": [
    "# Load a raw file to process it\n",
    "# Check the list of Platform IDs for TERIFIC\n",
    "PID = pd.read_csv(cat_proc_path('PID_list.txt'), header='infer', index_col=0)\n",
    "\n",
    "start_time = np.ones(len(PID))\n",
    "end_time = start_time\n",
    "numel = start_time\n",
    "\n",
    "for i in range(len(PID)):\n",
    "    pid1 = (PID[\"PID\"].values)[i].astype('str')\n",
    "    PID1 = (PID[\"PID\"].values)[i]\n",
    "\n",
    "    ########################################################################\n",
    "    ######## Load the filtered, hourly data\n",
    "    fname = 'pid'+str(PID1)+'_*'\n",
    "    proc_files = glob.glob(cat_interim_path(fname))\n",
    "    if len(proc_files):\n",
    "        proc_files = sorted(proc_files)\n",
    "        # Find the most recent file (alphabetically, rather than by time)\n",
    "        proc_files = proc_files[-1]\n",
    "        # Open the dataset\n",
    "        ds_hourly = xr.open_dataset(proc_files)\n",
    "\n",
    "        tmin = ds_hourly.time.min().values\n",
    "        tmax = ds_hourly.time.max().values\n",
    "\n",
    "        start_time[i] = tmin\n",
    "        end_time[i] = tmax\n",
    "        numel[i] = len(ds_hourly.time)\n",
    "\n"
   ]
  },
  {
   "cell_type": "code",
   "execution_count": 28,
   "id": "32071d9b-b989-4668-ab82-f952c3225d1e",
   "metadata": {},
   "outputs": [
    {
     "data": {
      "text/plain": [
       "[<matplotlib.lines.Line2D at 0x7f86d9169100>]"
      ]
     },
     "execution_count": 28,
     "metadata": {},
     "output_type": "execute_result"
    },
    {
     "data": {
      "image/png": "[encoded data removed]",
      "text/plain": [
       "<Figure size 432x288 with 1 Axes>"
      ]
     },
     "metadata": {
      "needs_background": "light"
     },
     "output_type": "display_data"
    }
   ],
   "source": [
    "\n",
    "plt.plot(numel)"
   ]
  },
  {
   "cell_type": "code",
   "execution_count": 14,
   "id": "4fe66b43-5941-4036-a354-196cc27507cf",
   "metadata": {},
   "outputs": [
    {
     "data": {
      "text/plain": [
       "numpy.datetime64('2020-06-15T12:00:00.000000000')"
      ]
     },
     "execution_count": 15,
     "metadata": {},
     "output_type": "execute_result"
    }
   ],
   "source": [
    "ds_hourly.time.min().values\n",
    "#ds_hourly.time.max().values"
   ]
  },
  {
   "cell_type": "code",
   "execution_count": null,
   "id": "bb18df33-1e56-4301-a9d5-2375ff2d06ee",
   "metadata": {},
   "outputs": [],
   "source": [
    "if 0:\n",
    "\n",
    "    # ~ ~ print update ~ ~ \n",
    "    if len(existing_files) > 0:\n",
    "        print(\"Existing raw data files: \\n%s\\n\" % existing_files)\n",
    "    else:\n",
    "        sys.exit(\"No previous raw data files.\\n\")\n",
    "\n",
    "    # ~ ~ filenaming convention ~ ~\n",
    "    # If there are multiple files with raw data (i.e. non-updated datasets), select \n",
    "    # the latest one updated.\n",
    "    # The file names are distinguished by the timestamp appended to the filename \n",
    "    # and has <tstamp_strftime> format (see 'user edits' section).\n",
    "    # The data are cropped such that the last day is fully sampled (spans 0h-23h).\n",
    "    # The timestamp in the filename is the latest downloaded fully sampled day.\n",
    "\n",
    "    # Extract the timestamp part of the filename(s) in a list\n",
    "    tstamp = [date for file in existing_files \n",
    "                for date in re.findall(\"(\\d{8})\", file)]\n",
    "\n",
    "    # Convert to datetime and pick the most recent timestamp\n",
    "    tstamp_date = pd.to_datetime(tstamp, format=tstamp_strftime)\n",
    "    fname_timestamp = tstamp[tstamp_date.argmax()]\n",
    "\n",
    "    # Load the raw file with the latest timestamp\n",
    "    ds_fname = f\"{fnames.fname_rawdata}{fname_timestamp}.nc\"\n",
    "    ds_fpath = os.path.join(data_dir, ds_fname)\n",
    "\n",
    "    print(\"Opening file: %s\\n\" % ds_fpath)\n",
    "    ds_raw = xr.open_dataset(ds_fpath)\n"
   ]
  }
 ],
 "metadata": {
  "kernelspec": {
   "display_name": "Python 3 (ipykernel)",
   "language": "python",
   "name": "python3"
  },
  "language_info": {
   "codemirror_mode": {
    "name": "ipython",
    "version": 3
   },
   "file_extension": ".py",
   "mimetype": "text/x-python",
   "name": "python",
   "nbconvert_exporter": "python",
   "pygments_lexer": "ipython3",
   "version": "3.9.5"
  }
 },
 "nbformat": 4,
 "nbformat_minor": 5
}
