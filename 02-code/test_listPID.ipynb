{
 "cells": [
  {
   "cell_type": "code",
   "execution_count": 90,
   "id": "fae60a8d-1d9e-46ae-80c8-da41f63154f3",
   "metadata": {},
   "outputs": [],
   "source": [
    "# - - - - - - - - - - - - - - - - - - - - - - - - - - - - - - - - - - - - - - \n",
    "# Import modules\n",
    "\n",
    "import numpy as np\n",
    "import xarray as xr\n",
    "import pandas as pd\n",
    "import matplotlib.dates as mdates\n",
    "import matplotlib.pyplot as plt\n",
    "from scipy.interpolate import interp1d\n",
    "import datetime\n",
    "import gsw\n",
    "import os\n",
    "import glob\n",
    "import sys\n",
    "import re\n",
    "from setdir import *\n",
    "\n",
    "# Local import\n",
    "from SIO_wrap import dir_tree, fnames\n",
    "from SIO_wrap.lowess import LatLonLocalWess\n",
    "from SIO_wrap import jlab_python as jlab\n",
    "\n"
   ]
  },
  {
   "cell_type": "code",
   "execution_count": 4,
   "id": "a86eafa4-bd28-4c92-af0b-e3a36f630a26",
   "metadata": {},
   "outputs": [
    {
     "name": "stdout",
     "output_type": "stream",
     "text": [
      "Existing raw data files: \n",
      "['/Users/eddifying/Python/drifters/01-data/02-intermediate/drifter_data_raw_20220107.nc']\n",
      "\n",
      "Opening file: /Users/eddifying/Python/drifters/01-data/02-intermediate/drifter_data_raw_20220107.nc\n",
      "\n"
     ]
    }
   ],
   "source": [
    "# Path for the output data\n",
    "data_dir = dir_tree.dir_out\n",
    "\n",
    "#--------------\n",
    "# Time formats\n",
    "tstamp_strftime = '%Y%m%d'  # Filename timestamp\n",
    "timcol_strftime = '%Y-%m-%d %H:%M:%S'  # Convert text to datetime format \n",
    "\n",
    "\n",
    "# Extract a list with the names of existing raw data files.\n",
    "existing_files = glob.glob(os.path.join(data_dir, fnames.fname_rawdata + '*'))\n",
    "\n",
    "# ~ ~ print update ~ ~ \n",
    "if len(existing_files) > 0:\n",
    "    print(\"Existing raw data files: \\n%s\\n\" % existing_files)\n",
    "else:\n",
    "    sys.exit(\"No previous raw data files.\\n\")\n",
    "\n",
    "# ~ ~ filenaming convention ~ ~\n",
    "# If there are multiple files with raw data (i.e. non-updated datasets), select \n",
    "# the latest one updated.\n",
    "# The file names are distinguished by the timestamp appended to the filename \n",
    "# and has <tstamp_strftime> format (see 'user edits' section).\n",
    "# The data are cropped such that the last day is fully sampled (spans 0h-23h).\n",
    "# The timestamp in the filename is the latest downloaded fully sampled day.\n",
    "\n",
    "# Extract the timestamp part of the filename(s) in a list\n",
    "tstamp = [date for file in existing_files \n",
    "            for date in re.findall(\"(\\d{8})\", file)]\n",
    "\n",
    "# Convert to datetime and pick the most recent timestamp\n",
    "tstamp_date = pd.to_datetime(tstamp, format=tstamp_strftime)\n",
    "fname_timestamp = tstamp[tstamp_date.argmax()]\n",
    "\n",
    "# Load the raw file with the latest timestamp\n",
    "ds_fname = f\"{fnames.fname_rawdata}{fname_timestamp}.nc\"\n",
    "ds_fpath = os.path.join(data_dir, ds_fname)\n",
    "\n",
    "print(\"Opening file: %s\\n\" % ds_fpath)\n",
    "ds_raw = xr.open_dataset(ds_fpath)\n",
    "\n",
    "# Total number of points \n",
    "total_points = int(ds_raw.time.size)"
   ]
  },
  {
   "cell_type": "code",
   "execution_count": 85,
   "id": "fdfdd093-3fd9-4f7d-a281-a30913bfa0a9",
   "metadata": {},
   "outputs": [],
   "source": [
    "# Extract all the PIDs\n",
    "ds_raw\n",
    "PID = list(set(ds_raw.Platform_ID.values.astype('int')))\n",
    "\n",
    "df = pd.DataFrame(PID, columns = ['Platform_ID'])"
   ]
  },
  {
   "cell_type": "code",
   "execution_count": 84,
   "id": "6b0cbfbb-0b58-440a-91f6-f6a704c5a371",
   "metadata": {},
   "outputs": [],
   "source": [
    "#original_stdout = sys.stdout\n",
    "\n",
    "#with open('PID_list.txt', 'w') as f:\n",
    "#    sys.stdout = f\n",
    "#    print(str(PID)[1:-1])\n",
    "#    sys.stdout = original_stdout"
   ]
  },
  {
   "cell_type": "code",
   "execution_count": 86,
   "id": "6c04ae3d-e196-4e9c-8711-6252be2396af",
   "metadata": {},
   "outputs": [
    {
     "data": {
      "text/html": [
       "<div>\n",
       "<style scoped>\n",
       "    .dataframe tbody tr th:only-of-type {\n",
       "        vertical-align: middle;\n",
       "    }\n",
       "\n",
       "    .dataframe tbody tr th {\n",
       "        vertical-align: top;\n",
       "    }\n",
       "\n",
       "    .dataframe thead th {\n",
       "        text-align: right;\n",
       "    }\n",
       "</style>\n",
       "<table border=\"1\" class=\"dataframe\">\n",
       "  <thead>\n",
       "    <tr style=\"text-align: right;\">\n",
       "      <th></th>\n",
       "      <th>PID</th>\n",
       "    </tr>\n",
       "  </thead>\n",
       "  <tbody>\n",
       "    <tr>\n",
       "      <th>0</th>\n",
       "      <td>300234066519040</td>\n",
       "    </tr>\n",
       "    <tr>\n",
       "      <th>1</th>\n",
       "      <td>300234068243970</td>\n",
       "    </tr>\n",
       "    <tr>\n",
       "      <th>2</th>\n",
       "      <td>300234068243460</td>\n",
       "    </tr>\n",
       "    <tr>\n",
       "      <th>3</th>\n",
       "      <td>300234068342280</td>\n",
       "    </tr>\n",
       "    <tr>\n",
       "      <th>4</th>\n",
       "      <td>300234066519050</td>\n",
       "    </tr>\n",
       "    <tr>\n",
       "      <th>...</th>\n",
       "      <td>...</td>\n",
       "    </tr>\n",
       "    <tr>\n",
       "      <th>195</th>\n",
       "      <td>300234068343280</td>\n",
       "    </tr>\n",
       "    <tr>\n",
       "      <th>196</th>\n",
       "      <td>300234068245490</td>\n",
       "    </tr>\n",
       "    <tr>\n",
       "      <th>197</th>\n",
       "      <td>300234068244980</td>\n",
       "    </tr>\n",
       "    <tr>\n",
       "      <th>198</th>\n",
       "      <td>300234068244470</td>\n",
       "    </tr>\n",
       "    <tr>\n",
       "      <th>199</th>\n",
       "      <td>300234068342270</td>\n",
       "    </tr>\n",
       "  </tbody>\n",
       "</table>\n",
       "<p>200 rows × 1 columns</p>\n",
       "</div>"
      ],
      "text/plain": [
       "                 PID\n",
       "0    300234066519040\n",
       "1    300234068243970\n",
       "2    300234068243460\n",
       "3    300234068342280\n",
       "4    300234066519050\n",
       "..               ...\n",
       "195  300234068343280\n",
       "196  300234068245490\n",
       "197  300234068244980\n",
       "198  300234068244470\n",
       "199  300234068342270\n",
       "\n",
       "[200 rows x 1 columns]"
      ]
     },
     "execution_count": 86,
     "metadata": {},
     "output_type": "execute_result"
    }
   ],
   "source": [
    "df"
   ]
  },
  {
   "cell_type": "code",
   "execution_count": 91,
   "id": "8baffa91-12de-4c6d-bcf5-cfcd4b585413",
   "metadata": {},
   "outputs": [],
   "source": [
    "PID_list = df.to_csv(cat_proc_path('PID_list.txt'))\n"
   ]
  }
 ],
 "metadata": {
  "kernelspec": {
   "display_name": "Python 3 (ipykernel)",
   "language": "python",
   "name": "python3"
  },
  "language_info": {
   "codemirror_mode": {
    "name": "ipython",
    "version": 3
   },
   "file_extension": ".py",
   "mimetype": "text/x-python",
   "name": "python",
   "nbconvert_exporter": "python",
   "pygments_lexer": "ipython3",
   "version": "3.9.5"
  }
 },
 "nbformat": 4,
 "nbformat_minor": 5
}
