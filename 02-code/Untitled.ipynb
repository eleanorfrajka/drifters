{
 "cells": [
  {
   "cell_type": "code",
   "execution_count": null,
   "id": "3b670826-181c-484f-8fa8-47c676206197",
   "metadata": {},
   "outputs": [],
   "source": []
  },
  {
   "cell_type": "code",
   "execution_count": null,
   "id": "7db628b0-bf58-45e5-8590-7d22cab6ef17",
   "metadata": {},
   "outputs": [],
   "source": [
    "\n",
    "\n",
    "pres=unit['pressure_dbar'].values.copy()\n",
    "unit['profile_index'] = xr.DataArray(np.full(pres.shape[0],np.nan), dims=['time'])\n",
    "# remove surface values (above .5 m)\n",
    "pres[ np.where(pres<0.5)[0] ] = np.nan\n",
    "# localise ~nan pressure\n",
    "pres_idx=np.where(~np.isnan(pres))[0]\n",
    "\n",
    "# 10-20 shallow points have two identical pressure measurements, potentially separated by nans. \n",
    "# Remove latest measurement, otherwise, inflection points are missed.\n",
    "idx_rm=np.where(np.diff(pres[pres_idx])==0)[0]\n",
    "pres[pres_idx[idx_rm]]=np.nan\n",
    "# relocalise ~nan pressure without identical pressure measurements.\n",
    "pres_idx=np.where(~np.isnan(pres))[0]\n",
    "\n",
    "# Initial index based on 1st profile (398:dive or 409:climb).\n",
    "init_index=[1 if np.diff(pres[pres_idx[1:3]])>0 else 1.5][0]\n",
    "for i in range(pres_idx[1],pres.shape[0]-1):\n",
    "    # Localise inflection point for 3 valid depths: i.e. sign((p_{z+1}-p_{z})*(p_{z}-p_{z-1}))<0\n",
    "    if ~np.isnan(pres[i]) :\n",
    "        idxp=np.where(pres_idx==i)[0][0]\n",
    "        p0=pres_idx[idxp-1]\n",
    "        p1=pres_idx[idxp+1]\n",
    "        if np.sign((pres[p1]-pres[i])*(pres[i]-pres[p0])) == -1:\n",
    "            init_index+=.5\n",
    "        unit['profile_index'][i]=init_index\n",
    "\n",
    "idx_c = np.where( unit['profile_index'] % 1 == .5)[0] # climb indices\n",
    "idx_d = np.where( unit['profile_index'] % 1 == 0)[0] # dive indices\n"
   ]
  }
 ],
 "metadata": {
  "kernelspec": {
   "display_name": "env_c2slocum",
   "language": "python",
   "name": "env_c2slocum"
  },
  "language_info": {
   "codemirror_mode": {
    "name": "ipython",
    "version": 3
   },
   "file_extension": ".py",
   "mimetype": "text/x-python",
   "name": "python",
   "nbconvert_exporter": "python",
   "pygments_lexer": "ipython3",
   "version": "3.9.7"
  }
 },
 "nbformat": 4,
 "nbformat_minor": 5
}
